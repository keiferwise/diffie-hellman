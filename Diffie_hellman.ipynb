{
 "cells": [
  {
   "cell_type": "code",
   "execution_count": 64,
   "metadata": {},
   "outputs": [],
   "source": [
    "def me(g,a,e):\n",
    "    num = a\n",
    "    return ((num ** e) % a)"
   ]
  },
  {
   "cell_type": "code",
   "execution_count": 55,
   "metadata": {},
   "outputs": [],
   "source": [
    "def Z26_text(Z26):    \n",
    "    letters='abcdefghijklmnopqrstuvwxyz_ '\n",
    "    text=''\n",
    "    for i in range(0,len(Z26),2):\n",
    "        text+=letters[int(Z26[i:i+2])]\n",
    "    return(text)\n",
    "#this fuction created by Josh Schneider"
   ]
  },
  {
   "cell_type": "code",
   "execution_count": 56,
   "metadata": {},
   "outputs": [],
   "source": [
    "def find_secret_power(p,g,x):\n",
    "    for i in range(1,p):\n",
    "        if(x == g ** i % p):\n",
    "            return i"
   ]
  },
  {
   "cell_type": "code",
   "execution_count": 68,
   "metadata": {},
   "outputs": [],
   "source": [
    "def EEA_fast(N,a):\n",
    "    #initialize 2 rows, 3 columns (R,S,T)\n",
    "    R=[N,a]\n",
    "    S=[1,0]\n",
    "    T=[0,1]\n",
    "    #add rows until remainder = 1 or 0\n",
    "    while R[-1]>1:\n",
    "        S+=[ S[-2] - R[-2]//R[-1]*S[-1] ]\n",
    "        T+=[ T[-2] - R[-2]//R[-1]*T[-1] ]\n",
    "        R+=[ R[-2]%R[-1] ]\n",
    "    return T[-1]\n",
    "    #this fuction created by Josh Schneider"
   ]
  },
  {
   "cell_type": "code",
   "execution_count": 57,
   "metadata": {},
   "outputs": [],
   "source": [
    "def decrypt_affine_block(k_inverse,block,n):\n",
    "    return (int(block) * k_inverse % n)"
   ]
  },
  {
   "cell_type": "code",
   "execution_count": 75,
   "metadata": {},
   "outputs": [],
   "source": [
    "def decrypt_affine_text(cipher,n,k_inverse,block_size):\n",
    "    i = len(str(cipher))\n",
    "    k = 0\n",
    "    block_list = list()\n",
    "    while k < i:\n",
    "        next_block = cipher[k:(k+block_size)]\n",
    "        block_list.append(next_block)\n",
    "        k+=block_size\n",
    "    #print(block_list)\n",
    "    plain_text=''\n",
    "    for block in block_list:\n",
    "        plain_text += (Z26_text(str(decrypt_affine_block(k_inverse,block,n))))\n",
    "        \n",
    "    return plain_text"
   ]
  },
  {
   "cell_type": "code",
   "execution_count": 76,
   "metadata": {},
   "outputs": [
    {
     "name": "stdout",
     "output_type": "stream",
     "text": [
      "shared secret:\n",
      "71339\n",
      "inverse of k:\n",
      "138097\n",
      "decrypted message:\n",
      "nowyourfired\n"
     ]
    }
   ],
   "source": [
    "#justin_secret = find_secret_power(91373,23,49192)\n",
    "justin_secret = 42002\n",
    "#donald_secret = find_secret_power(91373,23,59769)\n",
    "donald_secret = 50101\n",
    "cipher_text = 144396110975125016224330\n",
    "#k_inverse = 138097\n",
    "k_inverse = EEA_fast(affine_n,shared_secret)%affine_n\n",
    "affine_n = 261721\n",
    "block_size = 6\n",
    "share_secret = (49192**donald_secret % 91373)\n",
    "#print(59769**justin_secret % 91373)\n",
    "\n",
    "\n",
    "shared_secret = 59769**justin_secret % 91373\n",
    "print(\"shared secret:\")\n",
    "print(shared_secret)\n",
    "\n",
    "print(\"inverse of k:\")\n",
    "print(k_inverse)\n",
    "\n",
    "print(\"decrypted message:\")\n",
    "print(decrypt_affine_text(str(cipher_text),affine_n,k_inverse,block_size))"
   ]
  },
  {
   "cell_type": "code",
   "execution_count": null,
   "metadata": {},
   "outputs": [],
   "source": []
  }
 ],
 "metadata": {
  "kernelspec": {
   "display_name": "Python 3",
   "language": "python",
   "name": "python3"
  },
  "language_info": {
   "codemirror_mode": {
    "name": "ipython",
    "version": 3
   },
   "file_extension": ".py",
   "mimetype": "text/x-python",
   "name": "python",
   "nbconvert_exporter": "python",
   "pygments_lexer": "ipython3",
   "version": "3.7.4"
  }
 },
 "nbformat": 4,
 "nbformat_minor": 2
}
